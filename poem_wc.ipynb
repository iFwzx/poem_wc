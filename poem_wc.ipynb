{
 "cells": [
  {
   "cell_type": "code",
   "execution_count": 57,
   "id": "c7970724",
   "metadata": {},
   "outputs": [],
   "source": [
    "import pandas as pd\n",
    "import matplotlib.pyplot as plt\n",
    "from wordcloud import WordCloud, STOPWORDS\n",
    "import numpy as np\n",
    "from PIL import Image\n",
    "import arabic_reshaper\n",
    "from bidi.algorithm import get_display"
   ]
  },
  {
   "cell_type": "code",
   "execution_count": 58,
   "id": "018e9e38",
   "metadata": {},
   "outputs": [],
   "source": [
    "df = pd.read_csv('Arabic_poetry_dataset.csv')"
   ]
  },
  {
   "cell_type": "code",
   "execution_count": 59,
   "id": "56bf702b",
   "metadata": {},
   "outputs": [
    {
     "name": "stdout",
     "output_type": "stream",
     "text": [
      "<class 'pandas.core.frame.DataFrame'>\n",
      "RangeIndex: 54944 entries, 0 to 54943\n",
      "Data columns (total 5 columns):\n",
      " #   Column      Non-Null Count  Dtype \n",
      "---  ------      --------------  ----- \n",
      " 0   id          54944 non-null  int64 \n",
      " 1   category    54944 non-null  object\n",
      " 2   poet_name   54944 non-null  object\n",
      " 3   poem_title  54944 non-null  object\n",
      " 4   poem_text   54944 non-null  object\n",
      "dtypes: int64(1), object(4)\n",
      "memory usage: 2.1+ MB\n"
     ]
    }
   ],
   "source": [
    "df.info()"
   ]
  },
  {
   "cell_type": "code",
   "execution_count": 60,
   "id": "a3b9a8e6",
   "metadata": {},
   "outputs": [
    {
     "data": {
      "text/html": [
       "<div>\n",
       "<style scoped>\n",
       "    .dataframe tbody tr th:only-of-type {\n",
       "        vertical-align: middle;\n",
       "    }\n",
       "\n",
       "    .dataframe tbody tr th {\n",
       "        vertical-align: top;\n",
       "    }\n",
       "\n",
       "    .dataframe thead th {\n",
       "        text-align: right;\n",
       "    }\n",
       "</style>\n",
       "<table border=\"1\" class=\"dataframe\">\n",
       "  <thead>\n",
       "    <tr style=\"text-align: right;\">\n",
       "      <th></th>\n",
       "      <th>id</th>\n",
       "      <th>category</th>\n",
       "      <th>poet_name</th>\n",
       "      <th>poem_title</th>\n",
       "      <th>poem_text</th>\n",
       "    </tr>\n",
       "  </thead>\n",
       "  <tbody>\n",
       "    <tr>\n",
       "      <th>0</th>\n",
       "      <td>0</td>\n",
       "      <td>الإمارات</td>\n",
       "      <td>خلفان بن مصبح</td>\n",
       "      <td>بدت تختال في حُلل الجمالِ</td>\n",
       "      <td>بدت تختال في حُلل الجمالِ\\nوجادت بالزيارة والو...</td>\n",
       "    </tr>\n",
       "    <tr>\n",
       "      <th>1</th>\n",
       "      <td>1</td>\n",
       "      <td>الإمارات</td>\n",
       "      <td>خلفان بن مصبح</td>\n",
       "      <td>يا طائر الشعر القرير</td>\n",
       "      <td>يا طائر الشعر القرير\\nيا وحي إلهام الصدور\\nأسع...</td>\n",
       "    </tr>\n",
       "    <tr>\n",
       "      <th>2</th>\n",
       "      <td>2</td>\n",
       "      <td>الإمارات</td>\n",
       "      <td>خلفان بن مصبح</td>\n",
       "      <td>بنت حجرات أرى من عجب</td>\n",
       "      <td>بنت حجرات أرى من عجب\\nأن أرى فيك جمال العرب\\nد...</td>\n",
       "    </tr>\n",
       "    <tr>\n",
       "      <th>3</th>\n",
       "      <td>3</td>\n",
       "      <td>الإمارات</td>\n",
       "      <td>خلفان بن مصبح</td>\n",
       "      <td>هذا الربيع بنور الحسن وافانا</td>\n",
       "      <td>هذا الربيع بنور الحسن وافانا\\nوقد كسا الأرض با...</td>\n",
       "    </tr>\n",
       "    <tr>\n",
       "      <th>4</th>\n",
       "      <td>4</td>\n",
       "      <td>الإمارات</td>\n",
       "      <td>خلفان بن مصبح</td>\n",
       "      <td>روحي فداك وإن مُنحتُ صدوداً</td>\n",
       "      <td>روحي فداك وإن مُنحتُ صدوداً\\nأخفاك ما بي أم أط...</td>\n",
       "    </tr>\n",
       "  </tbody>\n",
       "</table>\n",
       "</div>"
      ],
      "text/plain": [
       "   id  category      poet_name                    poem_title  \\\n",
       "0   0  الإمارات  خلفان بن مصبح     بدت تختال في حُلل الجمالِ   \n",
       "1   1  الإمارات  خلفان بن مصبح          يا طائر الشعر القرير   \n",
       "2   2  الإمارات  خلفان بن مصبح          بنت حجرات أرى من عجب   \n",
       "3   3  الإمارات  خلفان بن مصبح  هذا الربيع بنور الحسن وافانا   \n",
       "4   4  الإمارات  خلفان بن مصبح   روحي فداك وإن مُنحتُ صدوداً   \n",
       "\n",
       "                                           poem_text  \n",
       "0  بدت تختال في حُلل الجمالِ\\nوجادت بالزيارة والو...  \n",
       "1  يا طائر الشعر القرير\\nيا وحي إلهام الصدور\\nأسع...  \n",
       "2  بنت حجرات أرى من عجب\\nأن أرى فيك جمال العرب\\nد...  \n",
       "3  هذا الربيع بنور الحسن وافانا\\nوقد كسا الأرض با...  \n",
       "4  روحي فداك وإن مُنحتُ صدوداً\\nأخفاك ما بي أم أط...  "
      ]
     },
     "execution_count": 60,
     "metadata": {},
     "output_type": "execute_result"
    }
   ],
   "source": [
    "df.head()"
   ]
  },
  {
   "cell_type": "code",
   "execution_count": 61,
   "id": "7ba9ad65",
   "metadata": {},
   "outputs": [
    {
     "data": {
      "text/plain": [
       "array(['الإمارات', 'البحرين', 'الجزائر', 'السعودية', 'السودان', 'العراق',\n",
       "       'المغرب', 'اليمن', 'تونس', 'سوريا', 'عمان', 'فلسطين', 'لبنان',\n",
       "       'ليبيا', 'مصر', 'الأردن', 'الكويت', 'قطر', 'موريتانيا',\n",
       "       'العصر الجاهلي', 'العصر الإسلامي', 'العصر العباسي',\n",
       "       'العصر الايوبي', 'العصر العثماني', 'عصر المخضرمون', 'العصر الاموي',\n",
       "       'العصر الأندلسي', 'العصر المملوكي'], dtype=object)"
      ]
     },
     "execution_count": 61,
     "metadata": {},
     "output_type": "execute_result"
    }
   ],
   "source": [
    "df['category'].unique()"
   ]
  },
  {
   "cell_type": "code",
   "execution_count": 62,
   "id": "e2b94961",
   "metadata": {},
   "outputs": [
    {
     "data": {
      "text/plain": [
       "array(['خلفان بن مصبح', 'سالم بن عبدالله الكراني', 'حماد بن سعيد',\n",
       "       'مبارك بن حمد العقيلي', 'علي بن محمد الشحي', 'محمد بن حمود الشحي',\n",
       "       'محمد بن صالح المنتفقي', 'يوسف بن رويسم', 'هدى السعدي',\n",
       "       'مانع سعيد العتيبة', 'عارف الخاجة', 'حمد بن خليفة أبو شهاب',\n",
       "       'كريم معتوق', 'سالم أبو جمهور القبيسي', 'قاسم حداد',\n",
       "       'أحلام مستغانمي', 'سهام آل براهمي', 'جلواح', 'عبد القادر الجزائري',\n",
       "       'سليمان بن سحمان', 'عبد الرحمن بن مساعد', 'أحمد اللهيب',\n",
       "       'عبدالرحمن العشماوي', 'شريف بقنه', 'ابن بشير الإحسائي',\n",
       "       'سامي المالكي', 'غازي القصيبي', 'محمد بن عبود العمودي',\n",
       "       'مدثر بن إبراهيم بن الحجاز', 'محمد عبد الباري', 'إدريس جمّاع',\n",
       "       'حمزة الملك طمبل', 'احمد مطر', 'نازك الملائكة', 'بدر شاكر السياب',\n",
       "       'محمد مهدي الجواهري', 'عبد الرزاق عبد الواحد',\n",
       "       'بهاء الدين الصيادي', 'معروف الرصافي', 'أبو الفيض الكتاني',\n",
       "       'مَحمد اسموني', 'شاعر الحمراء', 'عبدالله البردوني',\n",
       "       'عبد الولي الشميرى', 'ابن شهاب العلوي', 'محمد الشوكاني',\n",
       "       'ابن طاهر', 'ابن رشيق القيرواني', 'الشاذلي خزنه دار',\n",
       "       'أبو القاسم الشابي', 'سليم عبدالقادر', 'نزار قباني',\n",
       "       'خليل مردم بك', 'بطرس كرامة', 'أبو الهدى الصيادي',\n",
       "       'ابن شيخان السالمي', 'سيف الرحبي', 'صالح الفهدي',\n",
       "       'هلال بن سعيد العماني', 'توفيق زياد', 'جورج جريس فرح',\n",
       "       'محمود درويش', 'بديع القشاعلة', 'تميم البرغوثي', 'أسامه محمد زامل',\n",
       "       'إبراهيم طوقان', 'عمر اليافي', 'يوسف النبهاني', 'مطلق عبد الخالق',\n",
       "       'إيليا ابو ماضي', 'خليل مطران', 'جبران خليل جبران', 'جورج جرداق',\n",
       "       'فؤاد الخطيب', 'أبو الفضل الوليد', 'عمر الأنسي', 'إلياس أبو شبكة',\n",
       "       'ناصيف اليازجي', 'إبراهيم الأسطى', 'سليمان الباروني',\n",
       "       'مصطفى بن زكري', 'أحمد شوقي', 'حافظ ابراهيم',\n",
       "       'محمود سامى البارودى', 'ابراهيم ناجي', 'هشام الجخ', 'عبده صالح',\n",
       "       'صلاح عبد الصبور', 'سيد قطب', 'أمل دنقل', 'فاروق جويدة',\n",
       "       'أحمد محرم', 'مصطفى صادق الرافعي', 'المنفلوطي', 'زكي مبارك',\n",
       "       'إبراهيم عبد القادر المازني', 'حفني ناصف', 'صالح الشرنوبي',\n",
       "       'إسماعيل صبري', 'رفعت الصليبي', 'مصطفى التل', 'غازي الجمل',\n",
       "       'زياد السعودي', 'خالد الفرج', 'فهد العسكر', 'علي بن سعود آل ثاني',\n",
       "       'ماء العينين', 'أبد الصغير العلوي', 'محمد ولد ابن ولد أحميدا',\n",
       "       'ابن شعواء الفزالي', 'ابن عليق الطائي', 'امرؤ القيس',\n",
       "       'حاتم الطائي', 'أوس بن حجر', 'عنترة بن شداد', 'الخنساء',\n",
       "       'عمرو بن كلثوم', 'الحارث بن حلزة', 'ابن الأطنابة', 'ابن الرعلاء',\n",
       "       'ابن العجلان النهدي', 'ابن المضلَّل', 'ابن أم حزنة',\n",
       "       'ابن ثور العامري', 'ابن جوين الطائي', 'ابن زرعة الباهلي',\n",
       "       'ابن فكهة', 'ابن عمرو الكندي', 'ابن كلاب العقيلي',\n",
       "       'ابن مالك الحميري', 'ابنة أبي الجدعاء',\n",
       "       'ابنة حكيم بن عمرو العبدية', 'أبو أجأ التغلبي', 'أبو أذينه',\n",
       "       'أبو الحكيم المري', 'أبو الذيال اليهودي', 'أبو الفضل الكناني',\n",
       "       'أبو القرين الفزاري', 'أبو اللحام التغلبي', 'أبو المثلم الهذلي',\n",
       "       'أبو بثينه الهذلي', 'أبو حسان الفزاري', 'أبو حمضة اليهودي',\n",
       "       'أبو حنش التغلبي', 'أبو حية الفزاري', 'ابو دُاود الإيادي',\n",
       "       'أبو زيد الأرحبي', 'أبو سلمى ربيعة المزني', 'أبو عدي النمري',\n",
       "       'أبو عفك', 'أبو قردودة الطائي', 'أبو قلابة الهذلي',\n",
       "       'أبو قيس بن رفاعة', 'أبو نويرة التغلبي', 'أحيحة بن الجلاح',\n",
       "       'أخت الأسود بن غفار', 'أربد الذبياني', 'أربد بن ضابئ',\n",
       "       'أرطأة الفزاري', 'أروى بنت الحباب', 'أزبر بن غزي',\n",
       "       'أسماء التغلبية', 'أسماء المرية', 'أعشى باهلة', 'أعصر بن سعد',\n",
       "       'أفنون', 'الأحبش التميمي', 'الأحمر بن جندل', 'الأخضر الفزاري',\n",
       "       'الأخنس التغلبي', 'الأدير الكلبي', 'الأسعر الجعفي',\n",
       "       'الأسفع الأرحبي', 'الأسلوم اليامي', 'الأسود التغلبي',\n",
       "       'الأسود النهشلي', 'الأشتر الحمامي', 'الأشعث الجاشي',\n",
       "       'الأشعث بن عابس', 'الأضبط السعدي', 'الأعرج المري', 'الأعسر الضبي',\n",
       "       'الأعور بن عمرو الازدي', 'الأفوة الأودي', 'البراق', 'البُرجُمي',\n",
       "       'البسوس بنت منقذ التميمية', 'الجحاف الفزاري', 'الجراح الهمداني',\n",
       "       'الجميح الأسدي', 'الجندل الفزاري', 'الجوزاء بنت عروة البصرية',\n",
       "       'الجيداء بنت زاهر الزبيدية', 'الحارث الجرمي', 'الحارث الحضرمي',\n",
       "       'الحارث المذحجي', 'الحارث بن الحصين', 'الحارث بن زهير',\n",
       "       'الحارث بن صريم الوادعي', 'الحارث بن ظالم المري', 'الحارث بن عباد',\n",
       "       'الحارث بن عمرو الفزاري', 'الحكم الفزاري', 'الخرنق بنت بدر',\n",
       "       'الخنساء بنت التيجان', 'الحسل الهمداني', 'الحارث بن مر',\n",
       "       'الحشاش الأصغر', 'الحصين بن حمام الفزاري', 'الخنساء بنت زهير',\n",
       "       'الدحداحة الفقيمية', 'الدعجاء بنت وهب', 'الدهنا بنت مسحل',\n",
       "       'الراشاء بن نهار ', 'الراعي المري', 'الراعي الهمداني',\n",
       "       'الربيع بن أبي الحقيق', 'الربيع بن زياد العبسي',\n",
       "       'الربيع بن زياد الكلبي', 'الربيع بن عقيل', 'الزفيان',\n",
       "       'السفاح التغلبي', 'السلكة أم السليك', 'السليك بن السلكة',\n",
       "       'السموأل', 'الشنفرى', 'الطفيل الغنوي', 'العجلان بن خليد',\n",
       "       'العقار بن سليل', 'العنبر الخضم', 'العوراء الذبيانية',\n",
       "       'العوراء اليربوعية', 'الغطمش الضبي', 'الفارعة بنت معاوية',\n",
       "       'الفند الزماني', 'القعقاع بن شبث اليهودي', 'الكذاب الطابخي',\n",
       "       'الكذاب الكلبي', 'الكلحبة العرني', 'المتلمس الضبعي', 'المتنخل',\n",
       "       'المثقب العبدي', 'المثلم الفزاري', 'المثلم المري',\n",
       "       'المثلم بن عمرو التنوخي', 'المثلم بن قرط البلوي',\n",
       "       'المحيا الهمداني', 'المرار الكلبي', 'المرقش الأصغر',\n",
       "       'المرقش الأكبر', 'المسجاح الضبي', 'المسيب بن علس', 'المشؤوم',\n",
       "       'المعان بن روق', 'المفضل النكري', 'الممزق العبدي',\n",
       "       'المنخل اليشكري', 'النابغة التغلبي', 'النابغة الحارثي',\n",
       "       'النابغة الذبياني', 'النابغة الغنوي', 'النوار الجل',\n",
       "       'الهبل بن عامر', 'الهجرس التغلبي', 'الهدم بن امرئ القيس',\n",
       "       'الهذلول بن كعب', 'الهذيل الأكبر التغلبي', 'الهذيل بن أم عفاش',\n",
       "       'الهيبان الفهمي', 'الهيفاء بنت صبيح القضاعية', 'الوقي الهمداني',\n",
       "       'أم أبي جدابة', 'أم الأغر بنت ربيعة التغلبية',\n",
       "       'أم الضحاك المحاربية', 'أم النحيف', 'أم موسى الكلابية',\n",
       "       'امرؤ القيس الزهيري', 'امرؤ القيس السكوني', 'امرؤ القيس الكلبي',\n",
       "       'آمنة بنت عتيبة', 'آمنة بنت وهب', 'أميمة بنت أمية',\n",
       "       'أميمة بنت عبد المطلب', 'أوس الهجيمي', 'أوس بن حارثة',\n",
       "       'أوس العبدي', 'بداء بن سليمان', 'بدر الفزاري',\n",
       "       'برة بنت عبد المطلب', 'بسام بن شريح', 'بشامة بن الغدير',\n",
       "       'بشر الفزاري', 'بشر بن أبي خازم', 'بشر بن عمرو', 'بشير بن النكث',\n",
       "       'بغثر بن لقيط الأسدي', 'بكر الجرهمي', 'بلعاء بن قيس الكناني',\n",
       "       'بيهس الغطفاني', 'بيهس الفزاري', 'تأبط شراً', 'تماضر بنت الشريد',\n",
       "       'تنها بنت قرط العبدية', 'ثعلبة المازني', 'ثعلبة بن بكر الأزدي',\n",
       "       'ثعلبة بن عامر', 'جابر المرني', 'جابر المري', 'جبار الفزاري',\n",
       "       'جبار بن قرط', 'جبر المعاوي', 'جبلة بن الحارث', 'جحدر الوائلي',\n",
       "       'جحيش الهمداني', 'دويد القضاعي', 'شمر الحنفي', 'صخر الغي',\n",
       "       'طرفة بن العبد', 'عدي بن ربيعة', 'دريد بن الصمة', 'جساس بن مرة',\n",
       "       'علقمة الفحل', 'زهير بن أبي سلمى', 'عروة بن الورد',\n",
       "       'عبيد بن الأبرص', 'السمهري العلكي', 'المرار بن منقذ',\n",
       "       'جبيهاء الأشجعي', 'زياد التميمي', 'عروة بن حزام', 'فاطمة الزهراء',\n",
       "       'ابو محمد الفقعسي', 'يزيد بن معاوية', 'حبيب الهلالي', 'ابن الرومي',\n",
       "       'المتنبي', 'البحتري', 'ابو العتاهية', 'ابو نواس',\n",
       "       'ابن زريق البغدادي', 'أبو العلاء المعري', 'أبو فراس الحمداني',\n",
       "       'بديع الزمان الهمذاني', 'بشار بن برد', 'الإمام الشافعي',\n",
       "       'العباس بن الأحنف', 'الأصمعي', 'أبان الالحقي', 'إبراهيم الصولي',\n",
       "       'ابن المعتز', 'الجاحظ', 'دعبل الخزاعي', 'الشريف الرضي', 'أبو تمام',\n",
       "       'الأمين العباسي', 'أبو العيناء', 'ابن دراج القسطلي', 'ابن عبد ربه',\n",
       "       'الأحنف العكبري', 'أبو الشمقمق', 'سلم الخاسر', 'أبو بكر الخوارزمي',\n",
       "       'الراضي بالله', 'أبو الفتح البستي', 'ابن حجاج', 'التهامي',\n",
       "       'السري الرفاء', 'الخبز أرزي', 'الصاحب بن عباد',\n",
       "       'بلبل الغرام الحاجري', 'الحيص بيص', 'اللواح', 'الملك الأمجد',\n",
       "       'المكزون السنجاري', 'القاضي الفاضل', 'أبن أبي اليسر',\n",
       "       'ابن أبي حفص', 'ابن أبي عيسى', 'ابن إدريس التجيبي', 'أبن أرفع رأس',\n",
       "       'ابن الأثير المحدث', 'ابن الأردخل', 'ابن البراق',\n",
       "       'ابن البرون الصقلي', 'ابن الجنان', 'ابن الحاجب النحوي',\n",
       "       'ابن الدهان', 'ابن الفارض', 'ابن الساعاتي', 'ابن الفراش',\n",
       "       'ابن المتفننة', 'ابن المستوفي الإربلي', 'ابن المقرب العيوني',\n",
       "       'ابن النطروني', 'ابن بشري الصقلي', 'ابن الياسمين',\n",
       "       'ابن جبير الشاطبي', 'ابن جرج الذهبي', 'ابن جيا', 'ابن حربون',\n",
       "       'ابن حزمون', 'ابن حموية', 'ابن دنينير', 'ابن دهن الحصي',\n",
       "       'ابن رواحة الحموي', 'ابن راشد الحمامي', 'ابن زهر الحفيد',\n",
       "       'ابن سالم الهمداني', 'ابن سعد البلنسي', 'ابن سناء الملك',\n",
       "       'ابن شكيل', 'ابن صابر المنجنيقي', 'ابن طفيل', 'عبد المجيد الأزدي',\n",
       "       'ابن عطاء الله المصري', 'ابن عمرو الأغماتي', 'ابن عنين',\n",
       "       'ابن عياش التجيبي', 'ابن كسرى', 'ابن لبال الشريشي', 'ابن مجاور',\n",
       "       'ابن مسعود الخشني', 'ابن مسعود القرطبي', 'ابن مطروح البلنسي',\n",
       "       'ابن منجا الدمشقي', 'ابن مواهب', 'ابن نجيب الهاشمي', 'ابن نفادة',\n",
       "       'ابن نوفل الحلبي', 'أبو الحسن بن حريق', 'أبو الحسن بن خروف',\n",
       "       'أبو العباس الجراوي', 'أبو المحاسن الشواء', 'أبو اليمن الكندي',\n",
       "       'أبو بكر بن مجبر', 'أبو بكر بن مغاور', 'أبو جعفر الملاحي',\n",
       "       'أبو حريز الشريف', 'أسامة بن منقذ', 'سبط ابن التعاويذي',\n",
       "       'فتيان الشاغوري', 'أبو مدين التلمساني', 'أبو البحر الخطي',\n",
       "       'ابن معتوق', 'ابن النقيب', 'الامير منجك باشا', 'ابن علوي الحداد',\n",
       "       'ابن رازكه', 'ابن زاكور', 'بنت الشحنة', 'ابن معصوم',\n",
       "       'الأمير الصنعاني', 'عبد الغني النابلسي', 'سعيد بن أحمد البوسعيدي',\n",
       "       'ابن الجزري', 'محمد فضولي', 'جميل صدقي الزهاوي', 'الهبل',\n",
       "       'أحمد الكيواني', 'محمد المعولي', 'أبو طالب', 'حسان بن ثابت',\n",
       "       'لبيد بن ربيعة', 'الحطيئة', 'النابغة الجعدي', 'كعب بن زهير',\n",
       "       'الأعشى', 'مالك الأشتر', 'أبو بكر الصديق', 'القعقاع بن عمرو',\n",
       "       'أبو ذؤيب الهذلي', 'خفاف بن ندبة السلمي', 'العباس بن مرداس',\n",
       "       'العجاج', 'علي بن أبي طالب', 'أمية بن أبي الصلت',\n",
       "       'عمرو بن معد يكرب', 'الشماخ الذبياني', 'عمرو الباهلي',\n",
       "       'أبو الأخيل العجلي', 'الأخطل', 'الفرزدق', 'جرير', 'المقنع الكندي',\n",
       "       'الكميت بن زيد', 'الراعي النميري', 'قيس بن ذريح',\n",
       "       'الأحوص الأنصاري', 'قيس بن الملوح', 'عروة بن أذينة', 'جميل بثينة',\n",
       "       'ذو الرمة', 'كثير عزة', 'عمر بن أبي ربيعة', 'العرجي', 'وضاح اليمن',\n",
       "       'نصيب بن رباح', 'أبو الأسود الدؤلي', 'الحسين بن علي',\n",
       "       'يزيد بن الطثرية', 'مسكين الدرامي', 'الطرماح', 'عدي بن الرقاع',\n",
       "       'ابن حيوس', 'ابن خفاجه', 'الميكالي', 'ابن زيدون', 'ابن قلاقس',\n",
       "       'عمارة اليمني', 'المعتمد بن عباد', 'ظافر الحداد',\n",
       "       'ولادة بنت المستكفي', 'ابن حمديس', 'الأبيوردي',\n",
       "       'عبد الغفار الأخرس', 'الشاب الظريف', 'السراج الوراق', 'الباعونية',\n",
       "       'ابن مليك الحموي', 'البوصيري', 'أبو الحسين الجزار',\n",
       "       'ابن نباته المصري', 'ابن الأبار البلنسي', 'ابن الوردي',\n",
       "       'أبو البقاء الرندي', 'لسان الدين بن الخطيب', 'صفي الدين الحلي',\n",
       "       'بهاء الدين زهير', 'الصرصري', 'الباخرزي', 'الشريف المرتضى',\n",
       "       'تميم الفاطمي', 'ابن الزقاق', 'البرعي', 'ابن تيمية', 'الطغرائي',\n",
       "       'ابن الخيمي', 'ابن زمرك'], dtype=object)"
      ]
     },
     "execution_count": 62,
     "metadata": {},
     "output_type": "execute_result"
    }
   ],
   "source": [
    "df['poet_name'].unique()"
   ]
  },
  {
   "cell_type": "code",
   "execution_count": 63,
   "id": "aa14a65c",
   "metadata": {},
   "outputs": [],
   "source": [
    "df=df[df['category']=='السعودية']"
   ]
  },
  {
   "cell_type": "code",
   "execution_count": 64,
   "id": "18387f74",
   "metadata": {
    "scrolled": false
   },
   "outputs": [],
   "source": [
    "df=df[df['poet_name']=='غازي القصيبي']"
   ]
  },
  {
   "cell_type": "code",
   "execution_count": 65,
   "id": "3a5fcd1b",
   "metadata": {},
   "outputs": [
    {
     "data": {
      "text/html": [
       "<div>\n",
       "<style scoped>\n",
       "    .dataframe tbody tr th:only-of-type {\n",
       "        vertical-align: middle;\n",
       "    }\n",
       "\n",
       "    .dataframe tbody tr th {\n",
       "        vertical-align: top;\n",
       "    }\n",
       "\n",
       "    .dataframe thead th {\n",
       "        text-align: right;\n",
       "    }\n",
       "</style>\n",
       "<table border=\"1\" class=\"dataframe\">\n",
       "  <thead>\n",
       "    <tr style=\"text-align: right;\">\n",
       "      <th></th>\n",
       "      <th>id</th>\n",
       "      <th>category</th>\n",
       "      <th>poet_name</th>\n",
       "      <th>poem_title</th>\n",
       "      <th>poem_text</th>\n",
       "    </tr>\n",
       "  </thead>\n",
       "  <tbody>\n",
       "    <tr>\n",
       "      <th>1219</th>\n",
       "      <td>1326</td>\n",
       "      <td>السعودية</td>\n",
       "      <td>غازي القصيبي</td>\n",
       "      <td>قل لها</td>\n",
       "      <td>قل لها .. إنه تأمَّل في دنياه\\nحيناً فعاد يحضن...</td>\n",
       "    </tr>\n",
       "    <tr>\n",
       "      <th>1220</th>\n",
       "      <td>1327</td>\n",
       "      <td>السعودية</td>\n",
       "      <td>غازي القصيبي</td>\n",
       "      <td>رسالة المتنبي الأخيرة إلى سيف الدولة</td>\n",
       "      <td>بيني وبينك ألف واش ينعب\\nفعلام أسهب في الغناء ...</td>\n",
       "    </tr>\n",
       "    <tr>\n",
       "      <th>1221</th>\n",
       "      <td>1328</td>\n",
       "      <td>السعودية</td>\n",
       "      <td>غازي القصيبي</td>\n",
       "      <td>مرثية فارس سابق</td>\n",
       "      <td>عجباً ! كيف اتخذناكَ صديقاً ؟\\nوحَسبناك أخاً ب...</td>\n",
       "    </tr>\n",
       "    <tr>\n",
       "      <th>1222</th>\n",
       "      <td>1329</td>\n",
       "      <td>السعودية</td>\n",
       "      <td>غازي القصيبي</td>\n",
       "      <td>الموت و جلاجل</td>\n",
       "      <td>* مات عدد من الطالبات عندما\\nانهارت عليهن مدرس...</td>\n",
       "    </tr>\n",
       "    <tr>\n",
       "      <th>1223</th>\n",
       "      <td>1330</td>\n",
       "      <td>السعودية</td>\n",
       "      <td>غازي القصيبي</td>\n",
       "      <td>شهداء</td>\n",
       "      <td>يشهد لله أنكم شهدءُ\\nيشهد لأنبيءُ ولأوليءُ\\nمت...</td>\n",
       "    </tr>\n",
       "  </tbody>\n",
       "</table>\n",
       "</div>"
      ],
      "text/plain": [
       "        id  category     poet_name                            poem_title  \\\n",
       "1219  1326  السعودية  غازي القصيبي                                قل لها   \n",
       "1220  1327  السعودية  غازي القصيبي  رسالة المتنبي الأخيرة إلى سيف الدولة   \n",
       "1221  1328  السعودية  غازي القصيبي                       مرثية فارس سابق   \n",
       "1222  1329  السعودية  غازي القصيبي                         الموت و جلاجل   \n",
       "1223  1330  السعودية  غازي القصيبي                                 شهداء   \n",
       "\n",
       "                                              poem_text  \n",
       "1219  قل لها .. إنه تأمَّل في دنياه\\nحيناً فعاد يحضن...  \n",
       "1220  بيني وبينك ألف واش ينعب\\nفعلام أسهب في الغناء ...  \n",
       "1221  عجباً ! كيف اتخذناكَ صديقاً ؟\\nوحَسبناك أخاً ب...  \n",
       "1222  * مات عدد من الطالبات عندما\\nانهارت عليهن مدرس...  \n",
       "1223  يشهد لله أنكم شهدءُ\\nيشهد لأنبيءُ ولأوليءُ\\nمت...  "
      ]
     },
     "execution_count": 65,
     "metadata": {},
     "output_type": "execute_result"
    }
   ],
   "source": [
    "df.head()"
   ]
  },
  {
   "cell_type": "code",
   "execution_count": 66,
   "id": "ad85f81f",
   "metadata": {},
   "outputs": [
    {
     "name": "stderr",
     "output_type": "stream",
     "text": [
      "[nltk_data] Downloading package stopwords to\n",
      "[nltk_data]     C:\\Users\\dell\\AppData\\Roaming\\nltk_data...\n",
      "[nltk_data]   Package stopwords is already up-to-date!\n"
     ]
    }
   ],
   "source": [
    "import nltk\n",
    "nltk.download(\"stopwords\")\n",
    "arb_stopwords = set(nltk.corpus.stopwords.words(\"arabic\"))"
   ]
  },
  {
   "cell_type": "code",
   "execution_count": 67,
   "id": "b738eb2e",
   "metadata": {},
   "outputs": [],
   "source": [
    "df['poem_text']=df['poem_text'].apply(lambda x: ' '.join([word for word in x.split() if word not in (arb_stopwords)]))"
   ]
  },
  {
   "cell_type": "code",
   "execution_count": 68,
   "id": "f0fb7b11",
   "metadata": {},
   "outputs": [],
   "source": [
    "text= \" \".join(title for title in df.poem_text)"
   ]
  },
  {
   "cell_type": "code",
   "execution_count": 69,
   "id": "957c221b",
   "metadata": {},
   "outputs": [],
   "source": [
    "data = arabic_reshaper.reshape(text)\n",
    "data = get_display(data) # add this line\n",
    "wc = WordCloud(max_font_size=500, max_words=50, font_path='B Vahid Bold.ttf', background_color='white',\n",
    "                  mode='RGB', width=2000, height=1000).generate(data)"
   ]
  },
  {
   "cell_type": "code",
   "execution_count": 70,
   "id": "715e3832",
   "metadata": {
    "scrolled": false
   },
   "outputs": [
    {
     "data": {
      "image/png": "[encoded data removed]",
      "text/plain": [
       "<Figure size 432x288 with 1 Axes>"
      ]
     },
     "metadata": {
      "needs_background": "light"
     },
     "output_type": "display_data"
    }
   ],
   "source": [
    "plt.imshow(wc, interpolation='bilinear')\n",
    "plt.axis(\"off\")\n",
    "plt.show()"
   ]
  },
  {
   "cell_type": "code",
   "execution_count": 72,
   "id": "0faa6c76",
   "metadata": {},
   "outputs": [
    {
     "data": {
      "text/plain": [
       "<wordcloud.wordcloud.WordCloud at 0x18dadbf81c0>"
      ]
     },
     "execution_count": 72,
     "metadata": {},
     "output_type": "execute_result"
    }
   ],
   "source": [
    "wc.to_file('wc.png')"
   ]
  }
 ],
 "metadata": {
  "kernelspec": {
   "display_name": "Python 3 (ipykernel)",
   "language": "python",
   "name": "python3"
  },
  "language_info": {
   "codemirror_mode": {
    "name": "ipython",
    "version": 3
   },
   "file_extension": ".py",
   "mimetype": "text/x-python",
   "name": "python",
   "nbconvert_exporter": "python",
   "pygments_lexer": "ipython3",
   "version": "3.9.12"
  }
 },
 "nbformat": 4,
 "nbformat_minor": 5
}
